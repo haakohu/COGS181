{
 "cells": [
  {
   "cell_type": "markdown",
   "metadata": {},
   "source": [
    "# COGS 181 - Homework 3\n",
    "\n",
    "## 1 - Perceptron\n",
    "\n",
    "### 1.1 Programming"
   ]
  },
  {
   "cell_type": "code",
   "execution_count": 15,
   "metadata": {},
   "outputs": [
    {
     "name": "stdout",
     "output_type": "stream",
     "text": [
      "Done\n"
     ]
    }
   ],
   "source": [
    "import numpy as np\n",
    "import pandas as pd\n",
    "# Read data \n",
    "data = pd.read_csv('Q1_data.txt',header=None, usecols=[0,1,2,3,4])\n",
    "\n",
    "# Split up X and Y\n",
    "X = data.as_matrix()[:,:4]\n",
    "Y = data.as_matrix()[:,-1]\n",
    "\n",
    "# Find index for all the different classes\n",
    "mask_setosa = np.where(Y == \"Iris-setosa\")[0]\n",
    "mask_vc = np.where(Y == \"Iris-versicolor\")[0]\n",
    "\n",
    "# Classify to 1 and -1 for the two classes\n",
    "Y[mask_setosa] = 1\n",
    "Y[mask_vc] = -1\n",
    "\n",
    "# Find index for wanted training and testing tests\n",
    "training_mask = np.append(mask_setosa[0:35], mask_vc[0:35])\n",
    "testing_mask = np.append(mask_setosa[35::], mask_vc[35::])\n",
    "\n",
    "# Split X and Y to training & testing sets\n",
    "X_train = X[training_mask]\n",
    "X_test = X[testing_mask]\n",
    "Y_train = Y[training_mask]\n",
    "Y_test = Y[testing_mask]\n",
    "\n",
    "print \"Done\"\n",
    "\n"
   ]
  },
  {
   "cell_type": "code",
   "execution_count": 22,
   "metadata": {},
   "outputs": [
    {
     "name": "stdout",
     "output_type": "stream",
     "text": [
      "Perceptron learn done\n",
      "Trained W:\n",
      "[-0.02816965019965756 1.352961719638385 -1.7936396537196153\n",
      " 0.0982208788494281]\n",
      "Trained b: 0.867752509754\n"
     ]
    },
    {
     "data": {
      "image/png": "[encoded data removed]",
      "text/plain": [
       "<matplotlib.figure.Figure at 0x1a16fe4a10>"
      ]
     },
     "metadata": {},
     "output_type": "display_data"
    }
   ],
   "source": [
    "import random\n",
    "import matplotlib.pyplot as plt\n",
    "from sklearn.metrics import accuracy_score\n",
    "%matplotlib inline \n",
    "\n",
    "# Returns the predicted values of our classifier\n",
    "# X is Nx4\n",
    "# w is 4x1\n",
    "# b is scalar\n",
    "def f(X,w,b):\n",
    "    \n",
    "    # Our classifier\n",
    "    values = np.dot(X,w) + b\n",
    "    # Map all calculated values to -1 or 1 given value >= 0    \n",
    "    mapper = lambda x: [-1,1][x >= 0]\n",
    "    # Map to -1,1\n",
    "    vectorizer = np.vectorize(mapper)\n",
    "    predictions = vectorizer(values)\n",
    "    return predictions\n",
    "\n",
    "def error(X,Y,w,b):\n",
    "    predictions = f(X,w,b)\n",
    "    # error can also be calculated manually by\n",
    "    correct = (predictions == Y).sum()\n",
    "    accuracy = correct / float(len(X))\n",
    "    error = 1 - accuracy\n",
    "    # Can be calulated with sklearn function as well...\n",
    "    # error = 1- accuracy_score(Y.astype(int), predictions)\n",
    "    return error\n",
    "\n",
    "# X Nx4\n",
    "# Y Nx1\n",
    "# w 4x1\n",
    "# b scalar\n",
    "def perceptron_learn(X, Y, w, b, max_iterations):\n",
    "    ws = []\n",
    "    bs = []\n",
    "    error_rate = 1\n",
    "    it = 0\n",
    "    errors = []\n",
    "    while error_rate > 0 and it < max_iterations:\n",
    "        error_rate = error(X,Y,w,b)\n",
    "        errors.append(error_rate)\n",
    "        it = it + 1\n",
    "        ws.append(w)\n",
    "        bs.append(b)\n",
    "        # Select a random point\n",
    "        i = random.randrange(0, len(X))\n",
    "        # Calculate prediction\n",
    "        prediction = f(X[i], w, b)\n",
    "        if prediction == Y[i]:\n",
    "            continue\n",
    "        else:\n",
    "            w = w + lam*(Y[i] - prediction)*X[i]\n",
    "            b = b + lam*(Y[i] - prediction)\n",
    "\n",
    "    return ws,bs,errors\n",
    "\n",
    "w = np.array([random.random() for i in range(len(X[0]))])\n",
    "b = random.random()\n",
    "lam = 0.1\n",
    "\n",
    "ws ,bs ,e = perceptron_learn(X_train,Y_train, w, b, 1000)\n",
    "print \"Perceptron learn done\"\n",
    "w = ws[-1]\n",
    "b = bs[-1]\n",
    "\n",
    "plt.plot([x for x in range(1,len(e)+1)], e, \"-b.\", label=\"Error rate\")\n",
    "plt.xlabel(\"#iterations\")\n",
    "plt.ylabel(\"Error rate\")\n",
    "print \"Trained W:\\n\", w\n",
    "print \"Trained b:\", b"
   ]
  },
  {
   "cell_type": "markdown",
   "metadata": {
    "collapsed": true
   },
   "source": [
    "### 1.2 - Decision boundary\n",
    "Given in handwritten notes\n",
    "\n",
    "### 1.3 - Test"
   ]
  },
  {
   "cell_type": "code",
   "execution_count": 3,
   "metadata": {},
   "outputs": [
    {
     "name": "stdout",
     "output_type": "stream",
     "text": [
      "Accuracy: 1.0\n",
      "Precision: 1.0\n",
      "Recall: 1.0\n",
      "F Value: 1.0\n"
     ]
    },
    {
     "data": {
      "image/png": "[encoded data removed]",
      "text/plain": [
       "<matplotlib.figure.Figure at 0x10d11f690>"
      ]
     },
     "metadata": {},
     "output_type": "display_data"
    }
   ],
   "source": [
    "# #correct_predictions / #predictions\n",
    "def get_accuracy(Y, predictions):\n",
    "    assert Y.shape == predictions.shape\n",
    "    correct_predictions = np.equal(Y, predictions)\n",
    "    correct = sum(correct_predictions)\n",
    "    \n",
    "    return correct / float(len(predictions))\n",
    "\n",
    "# #true_positives / (#true_positives + #false_positives)\n",
    "def get_precision(Y, predictions):\n",
    "    assert Y.shape == predictions.shape\n",
    "    true_positives = get_true_positives(Y, predictions)\n",
    "    all_positives =  (predictions == 1).sum()\n",
    "    if all_positives == 0:\n",
    "        return 1\n",
    "    return true_positives / float(all_positives)\n",
    "\n",
    "def get_true_positives(Y, predictions):\n",
    "    TP = np.logical_and(predictions == 1, Y == 1).sum()\n",
    "    return TP\n",
    "    \n",
    "\n",
    "# #true_positives / #positives_in_test_set\n",
    "def get_recall(Y, predictions):\n",
    "    assert Y.shape == predictions.shape\n",
    "    TP = get_true_positives(Y, predictions)\n",
    "    positives_in_Y = (Y==1).sum()\n",
    "    return TP / float(positives_in_Y)\n",
    "    \n",
    "def get_f_value(precision, recall):\n",
    "    return 2 * precision * recall / float(precision + recall)\n",
    "\n",
    "def plot_statistics(Y, X, predict, ws, bs):\n",
    "    errors = []\n",
    "    precisions = []\n",
    "    recalls = []\n",
    "    f_values = []\n",
    "    errors = []\n",
    "\n",
    "    for i in range(len(ws)):\n",
    "        w = ws[i]\n",
    "        b = bs[i]\n",
    "\n",
    "        predictions = predict(X, w, b)\n",
    "        error = 1 - get_accuracy(Y, predictions)\n",
    "        precision = get_precision(Y, predictions)\n",
    "        recall = get_recall(Y, predictions)\n",
    "        f_value = get_f_value(precision, recall)\n",
    "        \n",
    "        errors.append(error)\n",
    "        precisions.append(precision)\n",
    "        recalls.append(recall)\n",
    "        f_values.append(f_value)\n",
    "    x_axis = range(len(ws))\n",
    "    fig=plt.figure(figsize=(18, 10), dpi= 80, facecolor='w', edgecolor='k')\n",
    "    plt.plot(x_axis, errors, \".b\", label=\"Error\")\n",
    "    plt.plot(x_axis, recalls, \".r\", label=\"Recall\")\n",
    "    plt.plot(x_axis, precisions, \".g\", label=\"Precision\")\n",
    "    plt.plot(x_axis, f_values, \".y\", label=\"F-Value\")\n",
    "    plt.legend()\n",
    "\n",
    "def print_stats(Y, predictions):\n",
    "    accuracy = get_accuracy(Y, predictions)\n",
    "    precision =  get_precision(Y, predictions)\n",
    "    recall = get_recall(Y, predictions)\n",
    "    f_value = get_f_value(precision, recall)\n",
    "    print \"Accuracy:\", accuracy\n",
    "    print \"Precision:\", precision\n",
    "    print \"Recall:\", recall\n",
    "    print \"F Value:\", f_value\n",
    "\n",
    "\n",
    "predictions = f(X_test, w, b)\n",
    "print_stats(Y_test, predictions)\n",
    "plot_statistics(Y_test, X_test, f, ws, bs)\n"
   ]
  },
  {
   "cell_type": "markdown",
   "metadata": {},
   "source": [
    "## 2 - Logistic Regression 1\n",
    "\n",
    "Given in handwritten notes\n",
    "\n",
    "## 3 - Logistic Regression 2"
   ]
  },
  {
   "cell_type": "code",
   "execution_count": 4,
   "metadata": {},
   "outputs": [
    {
     "data": {
      "text/plain": [
       "70"
      ]
     },
     "execution_count": 4,
     "metadata": {},
     "output_type": "execute_result"
    }
   ],
   "source": [
    "data = np.loadtxt('Q3_data.txt',\n",
    "                  delimiter=',',\n",
    "                  converters={-1: lambda s: {b'Iris-versicolor': 0,\n",
    "                                             b'Iris-virginica': 1}[s]\n",
    "                  })\n",
    "Y = data[:,4]\n",
    "X = data[:, [0,1,2,3]]\n",
    "\n",
    "\n",
    "mask_0 = np.where(Y == 0)[0]\n",
    "mask_1 = np.where(Y == 1)[0]\n",
    "\n",
    "# Find index for wanted training and testing tests\n",
    "testing_mask = np.append(mask_setosa[0:15], mask_vc[0:15])\n",
    "training_mask = np.append(mask_setosa[15::], mask_vc[15::])\n",
    "\n",
    "# Split X and Y to training & testing sets\n",
    "X_train = X[training_mask]\n",
    "X_test = X[testing_mask]\n",
    "Y_train = Y[training_mask]\n",
    "Y_test = Y[testing_mask]\n",
    "\n",
    "len(X_train)"
   ]
  },
  {
   "cell_type": "code",
   "execution_count": 5,
   "metadata": {
    "scrolled": false
   },
   "outputs": [
    {
     "name": "stdout",
     "output_type": "stream",
     "text": [
      "W: [-1.08229593 -0.37491066  1.2339429   0.92939273]\n",
      "B: 0.203415225806\n"
     ]
    }
   ],
   "source": [
    "from math import exp, log\n",
    "from matplotlib.legend_handler import HandlerLine2D\n",
    "# Sigmoid function\n",
    "# x_i = 4x1\n",
    "# w   = 4x1\n",
    "# b   = scalar\n",
    "def P(x_i, w, b):\n",
    "    assert x_i.shape == (4,), \"X shape has to be 4x1. Was {}, {}\".format(x_i.shape, x_i)\n",
    "    assert w.shape == (4,), \"W shape has to be 4x1\"\n",
    "    \n",
    "    upper = np.dot(w, x_i.T) + b\n",
    "    res = 1 / float(( 1 + exp(-upper)))\n",
    "    return res\n",
    "\n",
    "def predict(X,w,b):\n",
    "    return np.asarray([[0,1][P(x_i, w, b) >= 0.5] for x_i in X])\n",
    "\n",
    "\n",
    "# Loss function\n",
    "def loss(Y, X, w, b):\n",
    "    assert X[0].shape == (4,), \"X shape is supposed to be (4,). it was: {0}\".format(X[0].shape)\n",
    "    res = 0\n",
    "    for i in range(len(X)):\n",
    "        p_i = P(X[i], w, b)\n",
    "        res += Y[i] * log(p_i) + (1 - Y[i]) * log(1 - p_i + 0.000000001)\n",
    "    return res\n",
    "\n",
    "def gradient_descent(X, Y, w ,b, alpha, max_iterations):\n",
    "    # Validate parameters\n",
    "    m = len(X)\n",
    "    n = len(w)\n",
    "    assert X.shape == (m,n)\n",
    "    assert Y.shape == (m,)\n",
    "    assert w.shape == (n,)\n",
    "    \n",
    "    # Variables to track w's, b's, losses\n",
    "    it = 0\n",
    "    losses = []\n",
    "    ws = []\n",
    "    bs = []\n",
    "    for i in range(max_iterations):\n",
    "        # Calulate predict values\n",
    "        y_predict = predict(X, w, b)\n",
    "        \n",
    "        # Find dw, db\n",
    "        dw = np.dot(X.T, y_predict - Y )\n",
    "        db = float((y_predict - Y).sum())\n",
    "        assert dw.shape == (n,)\n",
    "        \n",
    "        # Update w, b\n",
    "        w = w - alpha * dw\n",
    "        b = b - alpha * db\n",
    "        \n",
    "        # Record values\n",
    "        losses.append(loss(Y, X, w, b))\n",
    "        ws.append(w)\n",
    "        bs.append(b)\n",
    "        it += 1\n",
    "    return losses, ws, bs\n",
    "\n",
    "w = np.array([random.random() for x in range(len(X_train[0]))])\n",
    "b = random.random()\n",
    "losses, ws, bs = gradient_descent(X_train, Y_train, w, b, 0.001, 450)\n",
    "print \"W:\", ws[-1]\n",
    "print \"B:\", bs[-1]\n"
   ]
  },
  {
   "cell_type": "code",
   "execution_count": 9,
   "metadata": {},
   "outputs": [
    {
     "name": "stdout",
     "output_type": "stream",
     "text": [
      "Final loss: -29.3565085786\n"
     ]
    },
    {
     "data": {
      "image/png": "[encoded data removed]",
      "text/plain": [
       "<matplotlib.figure.Figure at 0x1a1a28bc10>"
      ]
     },
     "metadata": {},
     "output_type": "display_data"
    }
   ],
   "source": [
    "plt.plot(range(0,len(losses)), losses, \"g.\")\n",
    "print \"Final loss:\", losses[-1]"
   ]
  },
  {
   "cell_type": "code",
   "execution_count": 10,
   "metadata": {},
   "outputs": [
    {
     "data": {
      "image/png": "[encoded data removed]",
      "text/plain": [
       "<matplotlib.figure.Figure at 0x1a1a8fc590>"
      ]
     },
     "metadata": {},
     "output_type": "display_data"
    }
   ],
   "source": [
    "plot_statistics(Y_train,X_train, predict, ws ,bs)\n"
   ]
  },
  {
   "cell_type": "markdown",
   "metadata": {},
   "source": [
    "## 3.3 - Decision Boundary\n",
    "\n",
    "The decision boundary is given from $p_i$ when it is below / above 0.5\n",
    "\n",
    "That is $$ p_i >= 0.5$$ \n",
    "\n",
    "This is when $$ w^T X_i + b = 0 $$\n",
    "\n",
    "If we plug in the values of $w$ from the training into this equation, we can derive the decision boundary as a hyperplane\n",
    "\n",
    "## 3.4 - Test"
   ]
  },
  {
   "cell_type": "code",
   "execution_count": 11,
   "metadata": {
    "scrolled": true
   },
   "outputs": [
    {
     "name": "stdout",
     "output_type": "stream",
     "text": [
      "Accuracy: 0.9\n",
      "Precision: 0.833333333333\n",
      "Recall: 1.0\n",
      "F Value: 0.909090909091\n"
     ]
    }
   ],
   "source": [
    "predictions = predict(X_test, ws[-1], bs[-1])\n",
    "accuracy = get_accuracy(Y_test, predictions)\n",
    "precision =  get_precision(Y_test, predictions)\n",
    "recall = get_recall(Y_test, predictions)\n",
    "f_value = get_f_value(precision, recall)\n",
    "print \"Accuracy:\", accuracy\n",
    "print \"Precision:\", precision\n",
    "print \"Recall:\", recall\n",
    "print \"F Value:\", f_value"
   ]
  },
  {
   "cell_type": "code",
   "execution_count": 13,
   "metadata": {},
   "outputs": [
    {
     "data": {
      "text/plain": [
       "()"
      ]
     },
     "execution_count": 13,
     "metadata": {},
     "output_type": "execute_result"
    }
   ],
   "source": [
    "Y[0].shape"
   ]
  },
  {
   "cell_type": "code",
   "execution_count": null,
   "metadata": {
    "collapsed": true
   },
   "outputs": [],
   "source": []
  },
  {
   "cell_type": "code",
   "execution_count": null,
   "metadata": {
    "collapsed": true
   },
   "outputs": [],
   "source": []
  },
  {
   "cell_type": "code",
   "execution_count": null,
   "metadata": {
    "collapsed": true
   },
   "outputs": [],
   "source": []
  },
  {
   "cell_type": "code",
   "execution_count": null,
   "metadata": {
    "collapsed": true
   },
   "outputs": [],
   "source": []
  }
 ],
 "metadata": {
  "kernelspec": {
   "display_name": "Python (myenv)",
   "language": "python",
   "name": "myenv"
  },
  "language_info": {
   "codemirror_mode": {
    "name": "ipython",
    "version": 2
   },
   "file_extension": ".py",
   "mimetype": "text/x-python",
   "name": "python",
   "nbconvert_exporter": "python",
   "pygments_lexer": "ipython2",
   "version": "2.7.14"
  }
 },
 "nbformat": 4,
 "nbformat_minor": 2
}
