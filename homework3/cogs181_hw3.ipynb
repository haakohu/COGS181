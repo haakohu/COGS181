{
 "cells": [
  {
   "cell_type": "code",
   "execution_count": 53,
   "metadata": {},
   "outputs": [
    {
     "name": "stdout",
     "output_type": "stream",
     "text": [
      "[ 0  1  2  3  4  5  6  7  8  9 10 11 12 13 14 15 16 17 18 19 20 21 22 23 24\n",
      " 25 26 27 28 29 30 31 32 33 34 35 36 37 38 39 40 41 42 43 44 45 46 47 48 49]\n",
      "[50 51 52 53 54 55 56 57 58 59 60 61 62 63 64 65 66 67 68 69 70 71 72 73 74\n",
      " 75 76 77 78 79 80 81 82 83 84 85 86 87 88 89 90 91 92 93 94 95 96 97 98 99]\n"
     ]
    }
   ],
   "source": [
    "import numpy as np\n",
    "import pandas as pd\n",
    "data = pd.read_csv('Q1_data.txt',header=None, usecols=[0,1,2,3,4])\n",
    "\n",
    "x = data.as_matrix()[:,:4]\n",
    "y = data.as_matrix()[:,-1]\n",
    "mask_setosa = np.where(y == \"Iris-setosa\")[0]\n",
    "mask_vc = np.where(y == \"Iris-versicolor\")[0]\n",
    "y[mask_setosa] = 1\n",
    "y[mask_vc] = -1\n",
    "\n",
    "print mask_setosa\n",
    "print mask_vc"
   ]
  },
  {
   "cell_type": "code",
   "execution_count": 7,
   "metadata": {},
   "outputs": [],
   "source": [
    "training_mask = np.append(mask_setosa[0:35], mask_vc[0:35])\n",
    "testing_mask = np.append(mask_setosa[35::], mask_vc[35::])"
   ]
  },
  {
   "cell_type": "code",
   "execution_count": 9,
   "metadata": {
    "collapsed": true
   },
   "outputs": [],
   "source": [
    "x_train = x[training_mask]\n",
    "x_test = x[testing_mask]\n",
    "y_train = y[training_mask]\n",
    "y_test = y[testing_mask]\n"
   ]
  },
  {
   "cell_type": "code",
   "execution_count": 54,
   "metadata": {},
   "outputs": [
    {
     "name": "stdout",
     "output_type": "stream",
     "text": [
      "37\n",
      "done\n",
      "0\n",
      "37\n"
     ]
    },
    {
     "data": {
      "image/png": "[encoded data removed]",
      "text/plain": [
       "<matplotlib.figure.Figure at 0x11c61e2d0>"
      ]
     },
     "metadata": {},
     "output_type": "display_data"
    }
   ],
   "source": [
    "import random\n",
    "import matplotlib.pyplot as plt\n",
    "%matplotlib inline \n",
    "\n",
    "def predict(X,w,b):\n",
    "    values = np.dot(X,w) + b\n",
    "    mapper = lambda x: [-1,1][x >= 0]\n",
    "    predictions = [mapper(x) for x in values]\n",
    "    return predictions\n",
    "\n",
    "def error(X,Y,w,b):\n",
    "    predictions = predict(X,w,b)\n",
    "    correctness = predictions == Y\n",
    "    error = 1 - sum(correctness) / float(len(X))\n",
    "    return error\n",
    "    \n",
    "    \n",
    "\n",
    "def f(x,w, b):\n",
    "    v = np.dot(w.T, x) + b\n",
    "    if v >= 0:\n",
    "        return 1\n",
    "    return -1\n",
    "\n",
    "def perceptron_learn(X,Y, max_iterations):\n",
    "    w = np.array([random.random() for i in range(len(X[0]))])\n",
    "    b = random.random()\n",
    "    lam = 0.1\n",
    "    error_rate = 1\n",
    "    it = 0\n",
    "    errors = []\n",
    "    while error_rate != 0 and it < max_iterations:\n",
    "        error_rate = error(X,Y,w,b)\n",
    "        errors.append(error_rate)\n",
    "        i = random.randrange(0, len(X))\n",
    "        prediction = f(X[i], w, b)\n",
    "        it = it + 1\n",
    "        if prediction == Y[i]:\n",
    "            continue\n",
    "        else:\n",
    "            w = w + lam*(Y[i] - prediction)*X[i]\n",
    "            b = b + lam*(Y[i] - prediction)\n",
    "\n",
    "    print it\n",
    "    return w,b,errors\n",
    "\n",
    "w,b,e = perceptron_learn(x_train,y_train,1000)\n",
    "print \"done\"\n",
    "\n",
    "print sum(predict(x, w, b))\n",
    "\n",
    "plt.plot([x for x in range(0,len(e))], e)\n",
    "print len(e)"
   ]
  },
  {
   "cell_type": "code",
   "execution_count": 10,
   "metadata": {},
   "outputs": [
    {
     "data": {
      "text/plain": [
       "0     5.1\n",
       "1     4.9\n",
       "2     4.7\n",
       "3     4.6\n",
       "4     5.0\n",
       "5     5.4\n",
       "6     4.6\n",
       "7     5.0\n",
       "8     4.4\n",
       "9     4.9\n",
       "10    5.4\n",
       "11    4.8\n",
       "12    4.8\n",
       "13    4.3\n",
       "14    5.8\n",
       "15    5.7\n",
       "16    5.4\n",
       "17    5.1\n",
       "18    5.7\n",
       "19    5.1\n",
       "20    5.4\n",
       "21    5.1\n",
       "22    4.6\n",
       "23    5.1\n",
       "24    4.8\n",
       "25    5.0\n",
       "26    5.0\n",
       "27    5.2\n",
       "28    5.2\n",
       "29    4.7\n",
       "     ... \n",
       "70    5.9\n",
       "71    6.1\n",
       "72    6.3\n",
       "73    6.1\n",
       "74    6.4\n",
       "75    6.6\n",
       "76    6.8\n",
       "77    6.7\n",
       "78    6.0\n",
       "79    5.7\n",
       "80    5.5\n",
       "81    5.5\n",
       "82    5.8\n",
       "83    6.0\n",
       "84    5.4\n",
       "85    6.0\n",
       "86    6.7\n",
       "87    6.3\n",
       "88    5.6\n",
       "89    5.5\n",
       "90    5.5\n",
       "91    6.1\n",
       "92    5.8\n",
       "93    5.0\n",
       "94    5.6\n",
       "95    5.7\n",
       "96    5.7\n",
       "97    6.2\n",
       "98    5.1\n",
       "99    5.7\n",
       "Name: 0, Length: 100, dtype: float64"
      ]
     },
     "execution_count": 10,
     "metadata": {},
     "output_type": "execute_result"
    }
   ],
   "source": [
    "data[0]"
   ]
  },
  {
   "cell_type": "code",
   "execution_count": null,
   "metadata": {
    "collapsed": true
   },
   "outputs": [],
   "source": []
  }
 ],
 "metadata": {
  "kernelspec": {
   "display_name": "Python 2",
   "language": "python",
   "name": "python2"
  },
  "language_info": {
   "codemirror_mode": {
    "name": "ipython",
    "version": 2
   },
   "file_extension": ".py",
   "mimetype": "text/x-python",
   "name": "python",
   "nbconvert_exporter": "python",
   "pygments_lexer": "ipython2",
   "version": "2.7.13"
  }
 },
 "nbformat": 4,
 "nbformat_minor": 2
}
