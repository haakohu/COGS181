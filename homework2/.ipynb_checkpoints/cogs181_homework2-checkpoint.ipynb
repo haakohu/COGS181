{
 "cells": [
  {
   "cell_type": "markdown",
   "metadata": {},
   "source": [
    "# COGS 181 - Homework 2\n"
   ]
  },
  {
   "cell_type": "markdown",
   "metadata": {},
   "source": [
    "## 4 - Error Metrics\n",
    "\n",
    "#### 1)\n",
    "The data matrix $X$ is given by\n",
    "$\n",
    "\\left(\\begin{array}{cc}\n",
    "8 & 8 & 16 & 4 \\\\\n",
    "4 & 1 & 1 & 16 \\\\\n",
    "6 & 4 & 4 & 2 \\\\\n",
    "4 & 2 & 4 & 1 \\\\\n",
    "8 & 4 & 8 & 2\n",
    "\\end{array}\\right)\n",
    "$ \n",
    "\n",
    "The label matrix Y is given by\n",
    "$\n",
    "\\left(\\begin{array}{cc}\n",
    "1 \\\\\n",
    "-1 \\\\\n",
    "1 \\\\\n",
    "-1\\\\\n",
    "1\n",
    "\\end{array}\\right)\n",
    "$\n",
    "\n",
    "#### 2)\n",
    "The values computed for $y_i$ is:\n",
    "$\n",
    "\\left(\\begin{array}{cc}\n",
    "2.4 \\\\\n",
    "-1.5 \\\\\n",
    "-1.4 \\\\\n",
    "-8.5 \\\\\n",
    "3\n",
    "\\end{array}\\right)\n",
    "$ and the corresponding prediction labels are:\n",
    "$\n",
    "\\left(\\begin{array}{cc}\n",
    "1 \\\\\n",
    "-1 \\\\\n",
    "-1 \\\\\n",
    "-1 \\\\\n",
    "1\n",
    "\\end{array}\\right)\n",
    "$\n",
    "\n",
    "### 3)\n",
    "\n",
    "Accuracy: 0.8\n",
    "\n",
    "Precision: 1.0\n",
    "\n",
    "Recall: 0.666666666667\n",
    "\n",
    "F-Score: 0.8\n"
   ]
  },
  {
   "cell_type": "code",
   "execution_count": 164,
   "metadata": {},
   "outputs": [
    {
     "name": "stdout",
     "output_type": "stream",
     "text": [
      "Values: [[ 2.4 -1.5 -1.4 -8.5  3. ]]\n",
      "Predictions: [ 1 -1 -1 -1  1]\n"
     ]
    }
   ],
   "source": [
    "import numpy as np\n",
    "\n",
    "\n",
    "X = np.matrix([\n",
    "    [8, 1, 16, 4],\n",
    "    [4, 1, 1, 16],\n",
    "    [6, 4, 4, 2],\n",
    "    [4, 2, 4, 1],\n",
    "    [8, 4, 8, 2]\n",
    "])\n",
    "Y = [1,-1,1,-1,1]\n",
    "W = np.array([1.2, 2, 0.5, 0.7])\n",
    "b = -20\n",
    "\n",
    "def classify(X,W,b):\n",
    "    values = np.inner(W,X) + b\n",
    "    print \"Values:\", values\n",
    "    result = [-1 + (2 * (x >= 0)) for x in values]\n",
    "    return np.asarray(result)[0][0]\n",
    "\n",
    "result = classify(X,W,b)\n",
    "print \"Predictions:\", result"
   ]
  },
  {
   "cell_type": "code",
   "execution_count": 165,
   "metadata": {},
   "outputs": [
    {
     "name": "stdout",
     "output_type": "stream",
     "text": [
      "Accuracy: 0.8\n",
      "Precision: 1.0\n",
      "Recall: 0.666666666667\n",
      "F-Score: 0.8\n"
     ]
    }
   ],
   "source": [
    "correct_hit = sum([result[i] == Y[i] for i in range(len(result))])\n",
    "targets_hit = np.sum([(Y[i] == 1 and result[i] == 1) for i in range(len(result))])\n",
    "total_hits = np.sum([result[i] == 1 for i in range(len(result))]) \n",
    "total_targets = np.sum([Y[i] == 1 for i in range(len(result))])\n",
    "accuracy = correct / float(len(Y))\n",
    "precision = targets_hit / float(total_hits)\n",
    "recall = targets_hit / float(total_targets)\n",
    "f_score = 2 * precision * recall / ( precision + recall)\n",
    "\n",
    "print \"Accuracy:\", accuracy\n",
    "print \"Precision:\", precision\n",
    "print \"Recall:\", recall\n",
    "print \"F-Score:\", f_score\n"
   ]
  },
  {
   "cell_type": "markdown",
   "metadata": {},
   "source": [
    "## 5 - Polynomial Regression\n",
    "#### 1)\n",
    "The L2 loss formula is \n",
    "$$\\sum_{i=1}^n (f(x_i) - y_i)^2$$\n",
    "Where\n",
    "$$ f(x_i) = ax_i^2 + bx + c$$\n",
    "Which can be written in matrix form as:\n",
    "$$ f(X) = X^TW$$\n",
    "where $$ X = (1, x, x^2) $$\n",
    "The LSE can be written in matrix form as:\n",
    "$$G = (X^TW-Y)^T(X^TW-Y)$$\n",
    "$$G = W^TX^TXW - W^TX^TY - Y^TXW + Y^TY $$\n",
    "We derive on respect with W and set it to 0.\n",
    "$$ \\frac{dG}{dW} = X^TXW - X^TXW - X^TY - X^TY = 0$$\n",
    "$$ X^TXW = X^TY$$\n",
    "Then W will be:\n",
    "$$ W = (X^TX)^{-1}X^TY $$\n",
    "\n",
    "\n",
    "#### 2) \n",
    "Look at code under, together with a graph. Quadratic model is shown as the orange line.\n",
    "\n",
    "#### 3)\n",
    "By just viewing the two models in the plot, we clearly see that the quadratic model is a better solution. This is also confirmed after computing the least square error, where we see that the LSE for linear model is 206, while only 15 for the quadratic model."
   ]
  },
  {
   "cell_type": "code",
   "execution_count": 258,
   "metadata": {},
   "outputs": [
    {
     "name": "stderr",
     "output_type": "stream",
     "text": [
      "/Users/hakonhukkelas/anaconda2/lib/python2.7/site-packages/ipykernel_launcher.py:20: MatplotlibDeprecationWarning: pyplot.hold is deprecated.\n",
      "    Future behavior will be consistent with the long-time default:\n",
      "    plot commands add elements without first clearing the\n",
      "    Axes and/or Figure.\n"
     ]
    },
    {
     "data": {
      "image/png": "[encoded data removed]",
      "text/plain": [
       "<matplotlib.figure.Figure at 0x11d4c7e90>"
      ]
     },
     "metadata": {},
     "output_type": "display_data"
    },
    {
     "name": "stdout",
     "output_type": "stream",
     "text": [
      "LSE for linear model 206.011861905\n",
      "LSE for quadratic model: 15.7605107198\n"
     ]
    }
   ],
   "source": [
    "import matplotlib.pyplot as plt\n",
    "import matplotlib.patches as mpatches\n",
    "\n",
    "data = np.loadtxt('data.txt', dtype='float')\n",
    "%matplotlib inline\n",
    "x = data[:,0].reshape(len(data),1)\n",
    "Y = data[:,1].reshape(len(data),1)\n",
    "# Squared x_i = [1, x, x^2]\n",
    "X_square = np.hstack((np.ones((len(x),1)),np.power(x,1), np.power(x,2)))\n",
    "# Linear x_i = [1, x]\n",
    "X_1 =  np.hstack((np.ones((len(x),1)),np.power(x,1)))\n",
    "\n",
    "# The LSE for the squared model\n",
    "sol = np.dot(np.linalg.inv(np.dot(X_square.T,X_square)), np.dot(X_square.T, Y))\n",
    "# LSE for linear model\n",
    "sol_hw1 = np.dot(np.linalg.inv(np.dot(X_1.T,X_1)), np.dot(X_1.T, Y))\n",
    "\n",
    "\n",
    "data_line = plt.plot(x,Y)\n",
    "plt.hold(True)\n",
    "quad_line = plt.plot(x,sol[0]+sol[1]*x + sol[2]*x**2, label=\"Line 1\")\n",
    "\n",
    "lin_line = plt.plot(x,sol_hw1[0] + sol_hw1[1]*x)\n",
    "plt.title('Least square line fitting')\n",
    "plt.xlabel('x')\n",
    "plt.ylabel('y')\n",
    "\n",
    "plt.show()\n",
    "def LSE(X,Y,W):\n",
    "    part1 = (np.dot(X, W) - Y)\n",
    "    part2 = (np.dot(X, W) - Y)\n",
    "    return np.dot(part1.T, part2)[0][0]\n",
    "print \"LSE for linear model\", LSE(X_1, Y, sol_hw1)\n",
    "print \"LSE for quadratic model:\", LSE(X_square, Y,sol,)"
   ]
  },
  {
   "cell_type": "markdown",
   "metadata": {},
   "source": [
    "## 6 - L1 Loss Regression\n",
    "\n",
    "#### 1)\n",
    "L1 loss is given by $$ L(W) = \\sum_{i=1}^n |(X_i^TW - Y_i)|$$\n",
    "\n",
    "We want to find $$ W^* = argmin_W \\sum_{i=1}^n |(X_i^TW - Y_i)|$$\n",
    "\n",
    "The derivative of f(x) can be written as\n",
    "\n",
    "$$ \\frac{|df(W)|}{dW} = sign(X_i^TW - Y_i) X_i$$ \n",
    "\n",
    "Then we have\n",
    "$$ \\frac{dL(W)}{dW} = \\sum_{i=1}^n sign(X_i^TW - Y_i) X_i$$\n",
    "\n",
    "And then we can find W by:\n",
    "\n",
    "$$ W_{t+1} = W_t - \\lambda_t \\frac{dL(W)}{dW}$$\n"
   ]
  },
  {
   "cell_type": "code",
   "execution_count": null,
   "metadata": {},
   "outputs": [],
   "source": [
    "\n",
    "alpha = 0.00001\n",
    "iterations = 2000\n",
    "W = [0, 0]\n",
    "\n",
    "data = np.loadtxt('data_2.txt', dtype='float')\n",
    "%matplotlib inline\n",
    "x = data[:,0].reshape(len(data),1)\n",
    "Y = data[:,1].reshape(len(data),1)\n",
    "# Linear x_i = [1, x]\n",
    "X =  np.hstack((np.ones((len(x),1)),np.power(x,1)))\n",
    "\n",
    "def L_prime(X,Y,W):\n",
    "    res = 0\n",
    "    for i in range(len(X)):\n",
    "        print X.shape, W.shape, Y.shape\n",
    "        sign = np.sign(np.dot(X[i], W) - Y[i])\n",
    "        res += r\n",
    "    return res\n",
    "\n",
    "def regression(X, Y, alpha, iterations):\n",
    "    W = np.array([0, 0]).T\n",
    "    for i in range(iterations):\n",
    "        W = W - alpha * L_prime(X ,Y, W)\n",
    "    return W\n",
    "# The LSE for the squared model\n",
    "sol_6 = regression(X,Y,alpha,iterations)\n",
    "# LSE for linear model\n",
    "\n",
    "print sol_6\n",
    "data_line = plt.plot(x,Y)\n",
    "plt.hold(True)\n",
    "lin_line = plt.plot(x,sol_6[0] + sol_6[1]*x)\n",
    "plt.title('Least square line fitting')\n",
    "plt.xlabel('x')\n",
    "plt.ylabel('y')\n",
    "\n"
   ]
  },
  {
   "cell_type": "code",
   "execution_count": null,
   "metadata": {
    "collapsed": true
   },
   "outputs": [],
   "source": []
  }
 ],
 "metadata": {
  "kernelspec": {
   "display_name": "Python 2",
   "language": "python",
   "name": "python2"
  },
  "language_info": {
   "codemirror_mode": {
    "name": "ipython",
    "version": 2
   },
   "file_extension": ".py",
   "mimetype": "text/x-python",
   "name": "python",
   "nbconvert_exporter": "python",
   "pygments_lexer": "ipython2",
   "version": "2.7.13"
  }
 },
 "nbformat": 4,
 "nbformat_minor": 2
}
